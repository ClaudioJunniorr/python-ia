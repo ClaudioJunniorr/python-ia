{
 "cells": [
  {
   "cell_type": "markdown",
   "metadata": {},
   "source": [
    "### Revisão da aula anterior ###\n",
    " - Aprendemos sobre os comandos Git, como:\n",
    "  * **Git init:** Inicia um repositório local para comunicação com o Github.\n",
    "  * **Git add .**: Adiciona todos os arquivos do projeto para serem rastreados pelo Git.\n",
    "  * **Git commit -m \"mensagem identificadora do commit:** Salva uma versão do repositório.\n",
    "  * **Git push -u origin main:** Envia o seu projeto para o repositório GitHub."
   ]
  },
  {
   "cell_type": "code",
   "execution_count": null,
   "metadata": {},
   "outputs": [],
   "source": [
    "n1 = int(n1)\n",
    "n2 = int(n2)\n",
    "# Divisao de inteiros\n",
    "divisao_inteira=n1//n2\n",
    "# Divisao simples\n",
    "divisao = n1/n2\n",
    "# Resto da divisao\n",
    "resto = n1 % n2\n",
    "# Mostrar o expoente\n",
    "expo = n1 ** n2\n"
   ]
  },
  {
   "cell_type": "code",
   "execution_count": null,
   "metadata": {},
   "outputs": [],
   "source": [
    "# Atribuição subtração\n",
    "valor = 10\n",
    "valor -= 10\n",
    "print(f\" Resultado de astribuição de subtração: {valor}\")\n",
    "# Atribuição de soma\n",
    "valor += 10\n",
    "print(f\" Resultado de astribuição de soma: {valor}\")\n",
    "# Atribuição de multiplicação\n",
    "valor *= 10\n",
    "print(f\" Resultado de astribuição de multiplicação: {valor}\")\n",
    "# Atribuição de divisão\n",
    "valor /= 10\n",
    "print(f\" Resultado de astribuição de divisão: {valor}\")\n",
    "# Atribuição de divisão inteira\n",
    "valor //= 10\n",
    "print(f\" Resultado de astribuição de divisão inteira: {valor}\")\n",
    "\n",
    "# Atribuição de modulo\n",
    "valor %= 10\n",
    "print(f\" Resultado da atribuição de modulo: {valor}\")"
   ]
  },
  {
   "cell_type": "markdown",
   "metadata": {},
   "source": [
    "### Atividade ###\n",
    " * Crie um programa para o Boletim de notas do aluno. Guarde o nome do aluno, as notas e calcule a média\n",
    " final do aluno.\n",
    "  * Disciplinas:\n",
    "   - Matematica\n",
    "   - Português\n",
    "   - Geografia\n",
    "   - Historia\n",
    "   - Fisica\n",
    "\n",
    "Ao obter as notas e a media das notas. imprime o boletim do aluno informando as notas das materias e com\n",
    "quanto ele ficou de media."
   ]
  },
  {
   "cell_type": "code",
   "execution_count": null,
   "metadata": {},
   "outputs": [],
   "source": [
    "print(30*\"=\", \"Boletim de notas\", 30*\"=\")\n",
    "aluno = input(\" Nome do aluno: \")\n",
    "matematica = float(input(\" Nota em matemática: \"))\n",
    "portugues = float(input(\" Nota em português: \"))\n",
    "geografia = float(input(\" Nota em geografia: \"))\n",
    "historia = float(input(\" Nota em historia: \"))\n",
    "fisica = float(input(\" Nota em física: \"))\n",
    "media = (matematica+portugues+geografia+historia+fisica)/5\n",
    "print(f\" O aluno {aluno} tirou notas nas seguintes matérias:\\n Matemática: {matematica}\\n Português: {portugues}\\n Geografia: {geografia}\\n História: {historia}\\n Física: {fisica} \")\n",
    "print(f\" Média do aluno {aluno} com a média:{media:.2f} \")\n",
    "print(78*\"=\")"
   ]
  }
 ],
 "metadata": {
  "kernelspec": {
   "display_name": ".venv",
   "language": "python",
   "name": "python3"
  },
  "language_info": {
   "codemirror_mode": {
    "name": "ipython",
    "version": 3
   },
   "file_extension": ".py",
   "mimetype": "text/x-python",
   "name": "python",
   "nbconvert_exporter": "python",
   "pygments_lexer": "ipython3",
   "version": "3.12.4"
  }
 },
 "nbformat": 4,
 "nbformat_minor": 2
}
