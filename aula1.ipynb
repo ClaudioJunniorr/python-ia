{
 "cells": [
  {
   "cell_type": "markdown",
   "metadata": {},
   "source": [
    "# Python Essencial\n",
    "\n",
    " Iremos trabalhar com:\n",
    " * Algoritmo\n",
    " * Comentários\n",
    " * Variável\n",
    " * Estrutura de Seleção\n",
    " * Git\n",
    " * GitHub\n",
    " * Compartilhar Notebook"
   ]
  },
  {
   "cell_type": "markdown",
   "metadata": {},
   "source": [
    "O que é um algoritmo?\n",
    "\n",
    " - Um algoritmo é um conjunto de instruções ou regras definidas de maneira precisa e sistemática para resolver um   problema específico ou realizar uma tarefa.\n",
    "\n",
    " - Em termos simples, é uma sequência de passos bem definidos que descrevem como executar uma tarefa.\n",
    "\n",
    " - Os algoritmos são fundamentais em várias áreas, incluindo matemática, ciência da computação e engenharia, pois permitem que problemas complexos sejam divididos em etapas menores e mais gerenciáveis.\n",
    "\n",
    " 1- Finitude: Um algoritmo deve sempre terminar após um número finito de etapas.\n",
    " 2- Definição: Cada passo do algoritmo deve ser claro e não ambíguo.\n",
    " 3- Entrada: Um algoritmo pode ter zero ou mais entradas, que são valores dados antes do algoritmo começar.\n",
    " 4- Saída: Um algoritmo deve ter pelo menos uma saída, que é o resultado da execução do algoritmo.\n",
    " 5- Efetividade: As operações do algoritmo devem ser suficientemente básicas para serem realizadas, em princípio, por uma pessoa usando apenas papel e lápis.\n",
    "\n",
    " Os algoritmos são usados em várias aplicações, desde resolver problemas matemáticos simples até controlar sistemas complexos em computadores, realizar buscas na internet, criptografar dados, e muito mais.\n",
    "\n",
    "\n",
    "    Algoritmo para fritar um Ovo:\n",
    "     Passo a passo para realizar uma determinada tarefa:\n",
    "     O algoritmo é uma sequência para realizar uma determinada tarefa. Por exemplo, fritar um ovo. Quais são os passos para fritar um ovo:\n",
    "\n",
    "     Passo 1: Pegar o ovo na geladeira.\n",
    "     Passo 2: Pegar a frigideira.\n",
    "     Passo 3: Ligar o fogo.\n",
    "     Passo 4: Colocar a frigideira no fogão.\n",
    "     Passo 5: Pegar a manteiga.\n",
    "     Passo 6: Colocar a manteiga na frigideira.\n",
    "     Passo 7: Quebrar o ovo na frigideira.\n",
    "     Passo 8: Sal.\n",
    "     Passo 9: Esperar ovo fritar.\n",
    "     Passo 10: Desligar o fogão.\n",
    "     Passo 11: Colocar o ovo em um prato.\n",
    "     Passo 12: Comer o ovo."
   ]
  },
  {
   "cell_type": "code",
   "execution_count": null,
   "metadata": {},
   "outputs": [],
   "source": []
  }
 ],
 "metadata": {
  "language_info": {
   "name": "python"
  }
 },
 "nbformat": 4,
 "nbformat_minor": 2
}
