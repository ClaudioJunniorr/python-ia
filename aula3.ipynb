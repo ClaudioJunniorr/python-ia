{
 "cells": [
  {
   "cell_type": "markdown",
   "metadata": {},
   "source": [
    "# Revisão da aula\n",
    " **Aprendemos sobre variável:**\n",
    "  - Como declarar uma variável.\n",
    "  - Maneiras de receber os dados, como um input.\n",
    "  - Formas de converter uma variável para receber dados.\n",
    "  - No caso do notebook, o código vai ser executado em cima na tela.\n",
    "  - Como restringir uma variável\n",
    " **Concatenação**\n",
    "  - Qual a excessão usando a concatenação + ( concatenação nao funciona em números inteiros )\n",
    " **Algoritmo**\n",
    "  - Sequência lógica de instruções para resolver um problema específico."
   ]
  },
  {
   "cell_type": "code",
   "execution_count": null,
   "metadata": {},
   "outputs": [],
   "source": []
  }
 ],
 "metadata": {
  "kernelspec": {
   "display_name": ".venv",
   "language": "python",
   "name": "python3"
  },
  "language_info": {
   "codemirror_mode": {
    "name": "ipython",
    "version": 3
   },
   "file_extension": ".py",
   "mimetype": "text/x-python",
   "name": "python",
   "nbconvert_exporter": "python",
   "pygments_lexer": "ipython3",
   "version": "3.12.4"
  }
 },
 "nbformat": 4,
 "nbformat_minor": 2
}
