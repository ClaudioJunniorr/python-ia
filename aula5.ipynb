{
 "cells": [
  {
   "cell_type": "code",
   "execution_count": 4,
   "metadata": {},
   "outputs": [
    {
     "name": "stdout",
     "output_type": "stream",
     "text": [
      "if é verdade.\n",
      "finalizei o codigo\n"
     ]
    }
   ],
   "source": [
    "programador = True\n",
    "if programador:\n",
    "    print('if é verdade.')\n",
    "else:\n",
    "    print('if falso')\n",
    "\n",
    "\n",
    "print('finalizei o codigo')"
   ]
  },
  {
   "cell_type": "code",
   "execution_count": 6,
   "metadata": {},
   "outputs": [
    {
     "name": "stdout",
     "output_type": "stream",
     "text": [
      "É maior de idade!\n"
     ]
    }
   ],
   "source": [
    "idade = 25\n",
    "if idade >= 18:\n",
    "    print('É maior de idade!')\n",
    "else:\n",
    "    print('Menor de idade.')"
   ]
  },
  {
   "cell_type": "code",
   "execution_count": 12,
   "metadata": {},
   "outputs": [
    {
     "name": "stdout",
     "output_type": "stream",
     "text": [
      "Não pode brincar\n"
     ]
    }
   ],
   "source": [
    "idade=15\n",
    "altura=1.75\n",
    "# and\n",
    "# or\n",
    "\n",
    "if idade >= 18 and altura > 1.60:\n",
    "    print(\"Pode brincar na montanha Russa!\")\n",
    "else:\n",
    "    print(\"Não pode brincar\")"
   ]
  },
  {
   "cell_type": "code",
   "execution_count": 27,
   "metadata": {},
   "outputs": [
    {
     "name": "stdout",
     "output_type": "stream",
     "text": [
      "numero par!\n"
     ]
    }
   ],
   "source": [
    "# lembrar que o % ele retorna o resto da divisao do numero, e no caso do if, ele verifica se o resto dessa divisao\n",
    "# é igual a 0\n",
    "\n",
    "numero = int(input(' Digite um número: '))\n",
    "if numero % 2 == 0:\n",
    "    print(\"numero par!\")\n",
    "else:\n",
    "    print(\"numero impar!\")"
   ]
  },
  {
   "cell_type": "code",
   "execution_count": 37,
   "metadata": {},
   "outputs": [
    {
     "name": "stdout",
     "output_type": "stream",
     "text": [
      " Não pode usar o elevador!\n"
     ]
    }
   ],
   "source": [
    "usuario=int(input(\" Digite o seu peso: \"))\n",
    "carga=int(input(\" Sua carga: \"))\n",
    "\n",
    "usuario = int(usuario)\n",
    "carga = int(carga)\n",
    "peso_total=usuario+carga\n",
    "capacidade=200\n",
    "\n",
    "if  peso_total  <= capacidade:\n",
    "    print(\" Pode usar o elevador!\")\n",
    "else:\n",
    "    print(\" Não pode usar o elevador!\")"
   ]
  },
  {
   "cell_type": "code",
   "execution_count": 40,
   "metadata": {},
   "outputs": [
    {
     "name": "stdout",
     "output_type": "stream",
     "text": [
      " O Claudio está em recuperação!\n"
     ]
    }
   ],
   "source": [
    "nome = \"Claudio\"\n",
    "nota = 6\n",
    "\n",
    "if nota >= 7:\n",
    "    print(f' O {nome} foi aprovado!')\n",
    "elif nota > 5 or nota < 7:\n",
    "    print(f' O {nome} está em recuperação!')\n",
    "else:\n",
    "    print(f\"{nome} foi reprovado\")\n"
   ]
  },
  {
   "cell_type": "markdown",
   "metadata": {},
   "source": [
    "## Desafio 3 ##\n",
    "\n",
    "* Criar um sistema para coletar os dados do aluno (1 aluno), (nome, idade, cpf), em seguida solicite as notas dos 4 bimestres\n",
    "da disciplina de python que o aluno teve para verificar a MEDIA\n",
    " * Media para aprovação >= 7\n",
    " * Media para recuperação >= 5\n",
    " * Media para reprovação =< 5\n",
    "\n",
    "* Para retirar o boletim de notas, o aluno precisa ser maior de idade (18) e caso nao seja, somente os pais podem \n",
    "retirar o boletim.\n",
    " * Imprima as informações do aluno.\n",
    " * Imprima as notas do aluno em cada bimestre.\n",
    " * Imprima a situação do aluno (aprovado, reprovado, recuperação)\n",
    " * Imprima se o boletim será retirado pelos pais ou pelo próprio aluno."
   ]
  },
  {
   "cell_type": "code",
   "execution_count": 73,
   "metadata": {},
   "outputs": [
    {
     "ename": "TypeError",
     "evalue": "unsupported operand type(s) for /: 'list' and 'int'",
     "output_type": "error",
     "traceback": [
      "\u001b[1;31m---------------------------------------------------------------------------\u001b[0m",
      "\u001b[1;31mTypeError\u001b[0m                                 Traceback (most recent call last)",
      "Cell \u001b[1;32mIn[73], line 5\u001b[0m\n\u001b[0;32m      3\u001b[0m cpfAluno \u001b[38;5;241m=\u001b[39m \u001b[38;5;28minput\u001b[39m(\u001b[38;5;124mf\u001b[39m\u001b[38;5;124m\"\u001b[39m\u001b[38;5;124m CPF do aluno \u001b[39m\u001b[38;5;132;01m{\u001b[39;00mnomeAluno\u001b[38;5;132;01m}\u001b[39;00m\u001b[38;5;124m: \u001b[39m\u001b[38;5;124m\"\u001b[39m)\n\u001b[0;32m      4\u001b[0m mediabimestre\u001b[38;5;241m=\u001b[39m[\u001b[38;5;241m0\u001b[39m, \u001b[38;5;241m1\u001b[39m, \u001b[38;5;241m2\u001b[39m,\u001b[38;5;241m3\u001b[39m]\n\u001b[1;32m----> 5\u001b[0m media\u001b[38;5;241m=\u001b[39m\u001b[43mmediabimestre\u001b[49m\u001b[38;5;241;43m/\u001b[39;49m\u001b[38;5;241;43m4\u001b[39;49m\n\u001b[0;32m      6\u001b[0m cont\u001b[38;5;241m=\u001b[39m\u001b[38;5;241m0\u001b[39m\n\u001b[0;32m      7\u001b[0m i\u001b[38;5;241m=\u001b[39m\u001b[38;5;241m0\u001b[39m\n",
      "\u001b[1;31mTypeError\u001b[0m: unsupported operand type(s) for /: 'list' and 'int'"
     ]
    }
   ],
   "source": [
    "nomeAluno = input(\" Nome do aluno: \")\n",
    "idadeAluno= int(input(f\" Idade do aluno {nomeAluno}: \"))\n",
    "cpfAluno = input(f\" CPF do aluno {nomeAluno}: \")\n",
    "mediabimestre=[0, 1, 2,3]\n",
    "media=mediabimestre/4\n",
    "cont=0\n",
    "i=0\n",
    "notaAluno=0\n",
    "for value in mediabimestre:\n",
    "    cont +=1\n",
    "    if i >= 3:\n",
    "      print(f\" nota do 4 bimestre...{mediabimestre[3]}\")\n",
    "    else:\n",
    "       mediabimestre[i]=int(input(f\"nota do {i+1}º Bimestre: \"))\n",
    "       i+=1\n",
    "\n",
    "if idade >= 18:\n",
    "   print(f\" Aluno: {nomeAluno} \")\n",
    "   print(f\" Nota 1: {mediabimestre}\")\n",
    "   if media >=7:\n",
    "      print(f\" Aluno {nomeAluno} aprovado.\")\n",
    "   elif media >=5 and  media < 7:\n",
    "      print(f'aluno {nomeAluno} em recuperação. ')\n",
    "   else:\n",
    "      print(f\"Aluno {nomeAluno} Reprovado.\")"
   ]
  }
 ],
 "metadata": {
  "kernelspec": {
   "display_name": ".venv",
   "language": "python",
   "name": "python3"
  },
  "language_info": {
   "codemirror_mode": {
    "name": "ipython",
    "version": 3
   },
   "file_extension": ".py",
   "mimetype": "text/x-python",
   "name": "python",
   "nbconvert_exporter": "python",
   "pygments_lexer": "ipython3",
   "version": "3.12.4"
  }
 },
 "nbformat": 4,
 "nbformat_minor": 2
}
